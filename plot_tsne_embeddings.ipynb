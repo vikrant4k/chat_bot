{
 "cells": [
  {
   "cell_type": "code",
   "execution_count": 6,
   "metadata": {},
   "outputs": [],
   "source": [
    "import pickle\n",
    "import torch\n",
    "import json\n",
    "import numpy as np\n",
    "\n",
    "path = \"/home/juan/Documents/chatbot/chat_bot/model_movie.pkl\"\n",
    "with open(\"/home/juan/Documents/chatbot/chat_bot/model_movie.pkl\", \"rb\") as f:\n",
    "    model_movie = pickle.load(f)    \n",
    "    \n",
    "with open('/home/juan/Documents/chatbot/chat_bot/w2i_movie_names.json') as f:\n",
    "    w2i_movies = json.load(f)\n",
    "\n",
    "with open('/home/juan/Documents/chatbot/chat_bot/i2w_movie_names.json') as f:\n",
    "    i2w_movies = json.load(f)\n",
    "    "
   ]
  },
  {
   "cell_type": "code",
   "execution_count": 7,
   "metadata": {},
   "outputs": [],
   "source": [
    "model = torch.load(path, map_location='cpu' )"
   ]
  },
  {
   "cell_type": "code",
   "execution_count": 8,
   "metadata": {},
   "outputs": [],
   "source": [
    "embeds = model['model_state_dict']['movie_embedding.weight']"
   ]
  },
  {
   "cell_type": "code",
   "execution_count": 10,
   "metadata": {},
   "outputs": [
    {
     "name": "stdout",
     "output_type": "stream",
     "text": [
      "921 922 922\n"
     ]
    }
   ],
   "source": [
    "print(len(embeds),len(w2i_movies),len(i2w_movies))"
   ]
  },
  {
   "cell_type": "code",
   "execution_count": 11,
   "metadata": {},
   "outputs": [
    {
     "data": {
      "text/plain": [
       "tensor([-1.3468, -2.2610, -0.2431, -1.0141,  0.1277,  2.0135,  0.6753, -0.2570,\n         0.5002, -0.0270,  0.4899,  0.1232, -0.1832,  0.0867,  1.1072,  0.5705,\n        -0.1462,  0.2642, -1.2140, -1.2909,  0.5788,  2.3398, -1.0253, -1.5842,\n         0.1714, -0.0068,  0.2447,  0.5973,  1.1527, -0.1773,  1.1196,  0.4572,\n        -1.1549,  1.1000, -1.2989,  0.5933,  0.5830, -0.0397, -0.5645, -2.1175,\n        -0.8972, -0.2094,  0.8014,  0.8358, -0.3269,  0.0735, -1.3135, -1.6587,\n         1.0417, -0.5081,  0.7133, -0.2333,  0.4617,  0.5424, -0.1108,  0.5380,\n        -0.9262,  0.7060, -0.5973,  1.5025,  0.0153,  1.1718,  1.4343,  1.2585])"
      ]
     },
     "execution_count": 11,
     "metadata": {},
     "output_type": "execute_result"
    }
   ],
   "source": [
    "embeds[0]"
   ]
  },
  {
   "cell_type": "code",
   "execution_count": 12,
   "metadata": {},
   "outputs": [
    {
     "name": "stdout",
     "output_type": "stream",
     "text": [
      "[-1.346846   -2.2610316  -0.24310502 -1.0140538   0.12767935  2.01351\n  0.67534846 -0.25695506  0.5002081  -0.02698251  0.48994792  0.12315404\n -0.18315868  0.08667397  1.1072378   0.5704529  -0.14616665  0.26421705\n -1.2140136  -1.2908762   0.57879883  2.33981    -1.0253389  -1.5842036\n  0.17138495 -0.00678816  0.24467942  0.5973408   1.1526811  -0.17730436\n  1.1196256   0.457244   -1.1549193   1.1000103  -1.2989491   0.59328693\n  0.58301866 -0.03970943 -0.5644892  -2.1174881  -0.8971546  -0.20935857\n  0.8013612   0.8358239  -0.3268536   0.07353245 -1.3134996  -1.65866\n  1.0417292  -0.50811374  0.71334285 -0.23328808  0.4617385   0.5423866\n -0.11076593  0.53795254 -0.92618215  0.7059886  -0.5972867   1.5024635\n  0.01534306  1.1718113   1.4343055   1.2585442 ] <class 'numpy.ndarray'> (64,)\n"
     ]
    }
   ],
   "source": [
    "embed_np = []\n",
    "for em in embeds:\n",
    "    embed_np.append(em.numpy().reshape(-1))\n",
    "    \n",
    "print(embed_np[0], type(embed_np[0]), embed_np[0].shape)"
   ]
  },
  {
   "cell_type": "code",
   "execution_count": 14,
   "metadata": {
    "collapsed": true
   },
   "outputs": [],
   "source": [
    "from sklearn.decomposition import PCA\n",
    "def get_transformed_PCA(vectors, dims):\n",
    "    \n",
    "    pca = PCA(n_components= dims)\n",
    "    pca_result = pca.fit(vectors)\n",
    "    \n",
    "    reduced_vectors = pca.transform(vectors)\n",
    "    reduced_vectors = np.asarray(reduced_vectors)\n",
    "    \n",
    "    return reduced_vectors, pca_result"
   ]
  },
  {
   "cell_type": "code",
   "execution_count": 15,
   "metadata": {},
   "outputs": [
    {
     "name": "stdout",
     "output_type": "stream",
     "text": [
      "922\n"
     ]
    },
    {
     "data": {
      "text/plain": [
       "921"
      ]
     },
     "execution_count": 95,
     "metadata": {},
     "output_type": "execute_result"
    }
   ],
   "source": [
    "names = set(w2i_movies.keys())\n",
    "\n",
    "print(len(names))\n",
    "names.remove('unknown')\n",
    "len(names)"
   ]
  },
  {
   "cell_type": "code",
   "execution_count": 23,
   "metadata": {},
   "outputs": [],
   "source": [
    "with open('/home/juan/Documents/chatbot/chat_bot/movie_data.pkl', 'rb') as f:\n",
    "    movie_data = pickle.load(f)"
   ]
  },
  {
   "cell_type": "code",
   "execution_count": 24,
   "metadata": {},
   "outputs": [],
   "source": [
    "movie_imdb2name = dict()\n",
    "\n",
    "for m in movie_data:\n",
    "    if '<p>' not in m:\n",
    "        movie_imdb2name[m] = movie_data[m].movie_name"
   ]
  },
  {
   "cell_type": "code",
   "execution_count": 26,
   "metadata": {},
   "outputs": [
    {
     "data": {
      "text/plain": [
       "678"
      ]
     },
     "execution_count": 26,
     "metadata": {},
     "output_type": "execute_result"
    }
   ],
   "source": [
    "len(movie_imdb2name) #ONLY TRAINING?"
   ]
  },
  {
   "cell_type": "code",
   "execution_count": 27,
   "metadata": {},
   "outputs": [
    {
     "name": "stdout",
     "output_type": "stream",
     "text": [
      "Honey 1\n"
     ]
    }
   ],
   "source": [
    "#movie_imdb2name.keys()\n",
    "print(movie_imdb2name['tt0322589'], w2i_movies['tt0322589'])"
   ]
  },
  {
   "cell_type": "code",
   "execution_count": 28,
   "metadata": {},
   "outputs": [
    {
     "name": "stdout",
     "output_type": "stream",
     "text": [
      "922\n"
     ]
    }
   ],
   "source": [
    "print(len(i2w_movies))"
   ]
  },
  {
   "cell_type": "code",
   "execution_count": 29,
   "metadata": {},
   "outputs": [
    {
     "data": {
      "text/plain": [
       "678"
      ]
     },
     "execution_count": 29,
     "metadata": {},
     "output_type": "execute_result"
    }
   ],
   "source": [
    "len(movie_imdb2name)"
   ]
  },
  {
   "cell_type": "code",
   "execution_count": 30,
   "metadata": {},
   "outputs": [
    {
     "data": {
      "text/plain": [
       "{'tt0023427': 'Scarface',\n 'tt0031381': 'Gone with the Wind',\n 'tt0032138': 'The Wizard of Oz',\n 'tt0032910': 'Pinocchio',\n 'tt0034492': 'Bambi',\n 'tt0034583': 'Casablanca',\n 'tt0046435': 'Titanic',\n 'tt0047296': 'On the Waterfront',\n 'tt0053125': 'North by Northwest',\n 'tt0055254': '101 Dalmatians',\n 'tt0055824': 'Cape Fear',\n 'tt0055928': 'Dr. No',\n 'tt0056172': 'Lawrence of Arabia',\n 'tt0056592': 'To Kill a Mockingbird',\n 'tt0057012': 'Dr. Strangelove or: How I Learned to Stop Worrying and Love the Bomb',\n 'tt0057115': 'The Great Escape',\n 'tt0057413': 'The Pink Panther',\n 'tt0058150': 'Goldfinger',\n 'tt0058331': 'Mary Poppins',\n 'tt0058461': 'A Fistful of Dollars',\n 'tt0060196': 'The Good, the Bad and the Ugly',\n 'tt0061418': 'Bonnie and Clyde',\n 'tt0061452': 'Casino Royale',\n 'tt0061512': 'Cool Hand Luke',\n 'tt0061584': 'Doctor Dolittle',\n 'tt0063442': 'Planet of the Apes',\n 'tt0064276': 'Easy Rider',\n 'tt0064665': 'Midnight Cowboy',\n 'tt0065126': 'True Grit',\n 'tt0065462': 'Beneath the Planet of the Apes',\n 'tt0066921': 'A Clockwork Orange',\n 'tt0066995': 'Diamonds Are Forever',\n 'tt0066999': 'Dirty Harry',\n 'tt0067065': 'Escape from the Planet of the Apes',\n 'tt0068646': 'The Godfather',\n 'tt0068931': 'The Mechanic',\n 'tt0069089': 'Pink Flamingos',\n 'tt0069768': 'Battle for the Planet of the Apes',\n 'tt0070047': 'The Exorcist',\n 'tt0071230': 'Blazing Saddles',\n 'tt0071562': 'The Godfather: Part II',\n 'tt0072890': 'Dog Day Afternoon',\n 'tt0073012': \"The Four Musketeers: Milady's Revenge\",\n 'tt0074483': 'The Enforcer',\n 'tt0075005': 'The Omen',\n 'tt0075148': 'Rocky',\n 'tt0075686': 'Annie Hall',\n 'tt0076009': 'Exorcist II: The Heretic',\n 'tt0076752': 'The Spy Who Loved Me',\n 'tt0076759': 'Star Wars: Episode IV - A New Hope',\n 'tt0077394': 'Damien: Omen II',\n 'tt0077416': 'The Deer Hunter',\n 'tt0077631': 'Grease',\n 'tt0077681': 'The Hills Have Eyes',\n 'tt0077975': 'Animal House',\n 'tt0078346': 'Superman',\n 'tt0078748': 'Alien',\n 'tt0079470': 'Life of Brian',\n 'tt0079501': 'Mad Max',\n 'tt0079522': 'Manhattan',\n 'tt0079945': 'Star Trek: The Motion Picture',\n 'tt0080455': 'The Blues Brothers',\n 'tt0080678': 'The Elephant Man',\n 'tt0081505': 'The Shining',\n 'tt0081573': 'Superman II',\n 'tt0082010': 'An American Werewolf in London',\n 'tt0082096': 'Das Boot',\n 'tt0082340': 'Escape from New York',\n 'tt0082377': 'The Final Conflict',\n 'tt0082971': 'Raiders of the Lost Ark',\n 'tt0083658': 'Blade Runner',\n 'tt0083907': 'The Evil Dead',\n 'tt0083929': 'Fast Times at Ridgemont High',\n 'tt0083944': 'First Blood',\n 'tt0084602': 'Rocky III',\n 'tt0084726': 'Star Trek II: The Wrath of Khan',\n 'tt0084805': 'Tootsie',\n 'tt0086154': 'Psycho II',\n 'tt0086190': 'Star Wars: Episode VI - Return of the Jedi',\n 'tt0086425': 'Terms of Endearment',\n 'tt0087298': 'Friday the 13th: The Final Chapter',\n 'tt0087332': 'Ghostbusters',\n 'tt0087363': 'Gremlins',\n 'tt0087538': 'The Karate Kid',\n 'tt0087755': 'The Muppets Take Manhattan',\n 'tt0087843': 'Once Upon a Time in America',\n 'tt0088011': 'Romancing the Stone',\n 'tt0088247': 'The Terminator',\n 'tt0088846': 'Brazil',\n 'tt0088847': 'The Breakfast Club',\n 'tt0089173': 'Friday the 13th: A New Beginning',\n 'tt0089218': 'The Goonies',\n 'tt0089370': 'The Jewel of the Nile',\n 'tt0089374': 'Police Story',\n 'tt0089530': 'Mad Max Beyond Thunderdome',\n 'tt0089822': 'Police Academy 2: Their First Assignment',\n 'tt0089927': 'Rocky IV',\n 'tt0090605': 'Aliens',\n 'tt0090863': 'The Color of Money',\n 'tt0091064': 'The Fly',\n 'tt0091080': 'Jason Lives: Friday the 13th Part VI',\n 'tt0091326': 'The Karate Kid Part II',\n 'tt0091763': 'Platoon',\n 'tt0091777': 'Police Academy 3: Back in Training',\n 'tt0091778': 'Poltergeist II: The Other Side',\n 'tt0092005': 'Stand by Me',\n 'tt0092007': 'Star Trek IV: The Voyage Home',\n 'tt0092076': 'The Texas Chainsaw Massacre 2',\n 'tt0092099': 'Top Gun',\n 'tt0092890': 'Dirty Dancing',\n 'tt0092965': 'Empire of the Sun',\n 'tt0092991': 'Evil Dead II',\n 'tt0093437': 'The Lost Boys',\n 'tt0094074': 'Superman IV: The Quest for Peace',\n 'tt0094291': 'Wall Street',\n 'tt0094737': 'Big',\n 'tt0094862': \"Child's Play\",\n 'tt0094963': 'The Dead Pool',\n 'tt0095179': 'Friday the 13th Part VII: The New Blood',\n 'tt0095403': 'Police Story 2',\n 'tt0095765': 'Cinema Paradiso',\n 'tt0095889': 'Poltergeist III',\n 'tt0095953': 'Rain Man',\n 'tt0096754': 'The Abyss',\n 'tt0096874': 'Back to the Future Part II',\n 'tt0096895': 'Batman',\n 'tt0097165': 'Dead Poets Society',\n 'tt0097351': 'Field of Dreams',\n 'tt0097388': 'Friday the 13th Part VIII: Jason Takes Manhattan',\n 'tt0097428': 'Ghostbusters II',\n 'tt0097441': 'Glory',\n 'tt0097493': 'Heathers',\n 'tt0097576': 'Indiana Jones and the Last Crusade',\n 'tt0097647': 'The Karate Kid Part III',\n 'tt0097733': 'Lethal Weapon 2',\n 'tt0097757': 'The Little Mermaid',\n 'tt0098105': 'Police Academy 6: City Under Siege',\n 'tt0098382': 'Star Trek V: The Final Frontier',\n 'tt0098621': 'The War of the Roses',\n 'tt0099077': 'Awakenings',\n 'tt0099253': \"Child's Play 2\",\n 'tt0099348': 'Dances with Wolves',\n 'tt0099487': 'Edward Scissorhands',\n 'tt0099528': 'The Exorcist III',\n 'tt0099674': 'The Godfather: Part III',\n 'tt0099685': 'Goodfellas',\n 'tt0099785': 'Home Alone',\n 'tt0099994': 'Leatherface: Texas Chainsaw Massacre III',\n 'tt0100157': 'Misery',\n 'tt0100758': 'Teenage Mutant Ninja Turtles',\n 'tt0101507': 'Boyz n the Hood',\n 'tt0101917': \"Freddy's Dead: The Final Nightmare\",\n 'tt0102138': 'JFK',\n 'tt0102926': 'The Silence of the Lambs',\n 'tt0103064': 'Terminator 2: Judgment Day',\n 'tt0103639': 'Aladdin',\n 'tt0103759': 'Bad Lieutenant',\n 'tt0103772': 'Basic Instinct',\n 'tt0103776': 'Batman Returns',\n 'tt0103956': \"Child's Play 3\",\n 'tt0104257': 'A Few Good Men',\n 'tt0104558': 'Supercop',\n 'tt0104692': 'The Lawnmower Man',\n 'tt0105236': 'Reservoir Dogs',\n 'tt0105323': 'Scent of a Woman',\n 'tt0105698': 'Universal Soldier',\n 'tt0106220': 'Addams Family Values',\n 'tt0106308': 'Army of Darkness',\n 'tt0106950': 'Fortress',\n 'tt0106977': 'The Fugitive',\n 'tt0107048': 'Groundhog Day',\n 'tt0107206': 'In the Line of Fire',\n 'tt0107254': 'Jason Goes to Hell: The Final Friday',\n 'tt0108333': 'The Three Musketeers',\n 'tt0108358': 'Tombstone',\n 'tt0108399': 'True Romance',\n 'tt0109445': 'Clerks',\n 'tt0109686': 'Dumb and Dumber',\n 'tt0109830': 'Forrest Gump',\n 'tt0109831': 'Four Weddings and a Funeral',\n 'tt0110148': 'Interview with the Vampire: The Vampire Chronicles',\n 'tt0110357': 'The Lion King',\n 'tt0110632': 'Natural Born Killers',\n 'tt0111161': 'The Shawshank Redemption',\n 'tt0111257': 'Speed',\n 'tt0111686': 'New Nightmare',\n 'tt0112281': 'Ace Ventura: When Nature Calls',\n 'tt0112384': 'Apollo 13',\n 'tt0112442': 'Bad Boys',\n 'tt0112453': 'Balto',\n 'tt0112471': 'Before Sunrise',\n 'tt0112573': 'Braveheart',\n 'tt0113277': 'Heat',\n 'tt0113497': 'Jumanji',\n 'tt0114194': 'The Prophecy',\n 'tt0114367': 'Screamers',\n 'tt0114369': 'Se7en',\n 'tt0114709': 'Toy Story',\n 'tt0114814': 'The Usual Suspects',\n 'tt0115571': 'The Arrival',\n 'tt0116225': 'Escape from L.A.',\n 'tt0116361': 'Freeway',\n 'tt0116367': 'From Dusk Till Dawn',\n 'tt0116483': 'Happy Gilmore',\n 'tt0116629': 'Independence Day',\n 'tt0116704': 'Police Story 4: First Strike',\n 'tt0117060': 'Mission: Impossible',\n 'tt0117381': 'Primal Fear',\n 'tt0117571': 'Scream',\n 'tt0117666': 'Sling Blade',\n 'tt0117731': 'Star Trek: First Contact',\n 'tt0118715': 'The Big Lebowski',\n 'tt0118749': 'Boogie Nights',\n 'tt0118971': 'The Devils Advocate',\n 'tt0119094': 'Face/Off',\n 'tt0119116': 'The Fifth Element',\n 'tt0119177': 'Gattaca',\n 'tt0119303': 'Home Alone 3',\n 'tt0119345': 'I Know What You Did Last Summer',\n 'tt0119396': 'Jackie Brown',\n 'tt0119567': 'The Lost World: Jurassic Park',\n 'tt0119654': 'Men in Black',\n 'tt0119683': 'Les MisÃƒÂ©rables',\n 'tt0119698': 'Princess Mononoke',\n 'tt0120082': 'Scream 2',\n 'tt0120188': 'Three Kings',\n 'tt0120201': 'Starship Troopers',\n 'tt0120363': 'Toy Story 2',\n 'tt0120382': 'The Truman Show',\n 'tt0120586': 'American History X',\n 'tt0120601': 'Being John Malkovich',\n 'tt0120611': 'Blade',\n 'tt0120623': 'A Bugs Life',\n 'tt0120663': 'Eyes Wide Shut',\n 'tt0120669': 'Fear and Loathing in Las Vegas',\n 'tt0120689': 'The Green Mile',\n 'tt0120755': 'Mission: Impossible II',\n 'tt0120762': 'Mulan',\n 'tt0120812': 'Rush Hour',\n 'tt0120815': 'Saving Private Ryan',\n 'tt0120888': 'The Wedding Singer',\n 'tt0120902': 'The X Files',\n 'tt0120903': 'X-Men',\n 'tt0120912': 'Men in Black II',\n 'tt0121765': 'Star Wars: Episode II - Attack of the Clones',\n 'tt0121766': 'Star Wars: Episode III - Revenge of the Sith',\n 'tt0123755': 'Cube',\n 'tt0125664': 'Man on the Moon',\n 'tt0126029': 'Shrek',\n 'tt0126886': 'Election',\n 'tt0127536': 'Elizabeth',\n 'tt0128442': 'Rounders',\n 'tt0129167': 'The Iron Giant',\n 'tt0130018': 'I Still Know What You Did Last Summer',\n 'tt0134084': 'Scream 3',\n 'tt0134119': 'The Talented Mr. Ripley',\n 'tt0137523': 'Fight Club',\n 'tt0139654': 'Training Day',\n 'tt0140352': 'The Insider',\n 'tt0143145': 'The World Is Not Enough',\n 'tt0144084': 'American Psycho',\n 'tt0146882': 'High Fidelity',\n 'tt0155267': 'The Thomas Crown Affair',\n 'tt0155975': 'Psycho',\n 'tt0159097': 'The Virgin Suicides',\n 'tt0159273': 'Behind Enemy Lines',\n 'tt0162222': 'Cast Away',\n 'tt0162661': 'Sleepy Hollow',\n 'tt0163651': 'American Pie',\n 'tt0167190': 'Hellboy',\n 'tt0167261': 'The Lord of the Rings: The Two Towers',\n 'tt0169547': 'American Beauty',\n 'tt0172156': 'Bad Boys II',\n 'tt0172495': 'Gladiator',\n 'tt0175142': 'Scary Movie',\n 'tt0175880': 'Magnolia',\n 'tt0176269': 'Universal Soldier: The Return',\n 'tt0177789': 'Galaxy Quest',\n 'tt0180093': 'Requiem for a Dream',\n 'tt0181689': 'Minority Report',\n 'tt0181852': 'Terminator 3: Rise of the Machines',\n 'tt0181865': 'Traffic',\n 'tt0181875': 'Almost Famous',\n 'tt0187738': 'Blade II',\n 'tt0190590': 'O Brother, Where Art Thou?',\n 'tt0195714': 'Final Destination',\n 'tt0196229': 'Zoolander',\n 'tt0204313': 'Exorcist: The Beginning',\n 'tt0206634': 'Children of Men',\n 'tt0208092': 'Snatch',\n 'tt0209163': 'The Mummy Returns',\n 'tt0211915': 'AmÃƒÂ©lie',\n 'tt0212346': 'Miss Congeniality',\n 'tt0217505': 'Gangs of New York',\n 'tt0217869': 'Unbreakable',\n 'tt0230600': 'The Others',\n 'tt0232500': 'The Fast and the Furious',\n 'tt0234215': 'The Matrix Reloaded',\n 'tt0241527': \"Harry Potter and the Sorcerer's Stone\",\n 'tt0242653': 'The Matrix Revolutions',\n 'tt0243155': \"Bridget Jones's Diary\",\n 'tt0245429': 'Spirited Away',\n 'tt0245712': 'Amores Perros',\n 'tt0246578': 'Donnie Darko',\n 'tt0257044': 'Road to Perdition',\n 'tt0257076': 'S.W.A.T.',\n 'tt0257106': 'Scary Movie 2',\n 'tt0258463': 'The Bourne Identity',\n 'tt0259324': 'Ghost Rider',\n 'tt0259446': 'My Big Fat Greek Wedding',\n 'tt0264464': 'Catch Me If You Can',\n 'tt0265086': 'Black Hawk Down',\n 'tt0266308': 'Battle Royale',\n 'tt0266543': 'Finding Nemo',\n 'tt0266697': 'Kill Bill: Vol. 1',\n 'tt0266987': 'Spy Game',\n 'tt0275847': 'Lilo & Stitch',\n 'tt0276919': 'Dogville',\n 'tt0286716': 'Hulk',\n 'tt0289765': 'Red Dragon',\n 'tt0289879': 'The Butterfly Effect',\n 'tt0290334': 'X2',\n 'tt0293662': 'The Transporter',\n 'tt0295297': 'Harry Potter and the Chamber of Secrets',\n 'tt0298130': 'The Ring',\n 'tt0298148': 'Shrek 2',\n 'tt0302886': 'Old School',\n 'tt0304141': 'Harry Potter and the Prisoner of Azkaban',\n 'tt0305357': \"Charlie's Angels: Full Throttle\",\n 'tt0307901': '25th Hour',\n 'tt0307987': 'Bad Santa',\n 'tt0309593': 'Final Destination 2',\n 'tt0314331': 'Love Actually',\n 'tt0315733': '21 Grams',\n 'tt0316654': 'Spider-Man 2',\n 'tt0317198': 'Bridget Jones: The Edge of Reason',\n 'tt0317219': 'Cars',\n 'tt0317248': 'City of God',\n 'tt0317705': 'The Incredibles',\n 'tt0317919': 'Mission: Impossible III',\n 'tt0318627': 'Resident Evil: Apocalypse',\n 'tt0319061': 'Big Fish',\n 'tt0319343': 'Elf',\n 'tt0320691': 'Underworld',\n 'tt0322259': '2 Fast 2 Furious',\n 'tt0322589': 'Honey',\n 'tt0325703': 'Lara Croft Tomb Raider: The Cradle of Life',\n 'tt0328107': 'Man on Fire',\n 'tt0330373': 'Harry Potter and the Goblet of Fire',\n 'tt0333766': 'Garden State',\n 'tt0335266': 'Lost in Translation',\n 'tt0335345': 'The Passion of the Christ',\n 'tt0337697': 'The Prince and Me',\n 'tt0337978': 'Live Free or Die Hard',\n 'tt0338013': 'Eternal Sunshine of the Spotless Mind',\n 'tt0338459': 'Spy Kids 3: Game Over',\n 'tt0338751': 'The Aviator',\n 'tt0349205': 'Cheaper by the Dozen',\n 'tt0349903': \"Ocean's Twelve\",\n 'tt0351283': 'Madagascar',\n 'tt0356470': 'A Cinderella Story',\n 'tt0357413': 'Anchorman: The Legend of Ron Burgundy',\n 'tt0357507': 'Boogeyman',\n 'tt0359013': 'Blade: Trinity',\n 'tt0360717': 'King Kong',\n 'tt0361748': 'Inglourious Basterds',\n 'tt0362120': 'Scary Movie 4',\n 'tt0363547': 'Dawn of the Dead',\n 'tt0365748': 'Shaun of the Dead',\n 'tt0366548': 'Happy Feet',\n 'tt0366551': 'Harold & Kumar Go to White Castle',\n 'tt0367882': 'Indiana Jones and the Kingdom of the Crystal Skull',\n 'tt0367959': 'Hannibal Rising',\n 'tt0368891': 'National Treasure',\n 'tt0368933': 'The Princess Diaries 2: Royal Engagement',\n 'tt0369226': 'Alone in the Dark',\n 'tt0369339': 'Collateral',\n 'tt0371746': 'Iron Man',\n 'tt0373469': 'Kiss Kiss Bang Bang',\n 'tt0373883': 'Halloween',\n 'tt0373889': 'Harry Potter and the Order of the Phoenix',\n 'tt0374900': 'Napoleon Dynamite',\n 'tt0375063': 'Sideways',\n 'tt0375912': 'Layer Cake',\n 'tt0376994': 'X-Men: The Last Stand',\n 'tt0377092': 'Mean Girls',\n 'tt0377109': 'The Ring Two',\n 'tt0378109': 'Into the Blue',\n 'tt0382625': 'The Da Vinci Code',\n 'tt0382932': 'Ratatouille',\n 'tt0383222': 'BloodRayne',\n 'tt0383574': \"Pirates of the Caribbean: Dead Man's Chest\",\n 'tt0385307': 'Miss Congeniality 2: Armed and Fabulous',\n 'tt0387564': 'Saw',\n 'tt0388795': 'Brokeback Mountain',\n 'tt0391198': 'The Grudge',\n 'tt0393109': 'Brick',\n 'tt0399146': 'A History of Violence',\n 'tt0399295': 'Lord of War',\n 'tt0401792': 'Sin City',\n 'tt0401855': 'Underworld: Evolution',\n 'tt0405094': 'The Lives of Others',\n 'tt0405422': 'The 40-Year-Old Virgin',\n 'tt0408306': 'Munich',\n 'tt0413267': 'Shrek the Third',\n 'tt0413300': 'Spider-Man 3',\n 'tt0414982': 'Final Destination 3',\n 'tt0417741': 'Harry Potter and the Half-Blood Prince',\n 'tt0418279': 'Transformers',\n 'tt0420223': 'Stranger Than Fiction',\n 'tt0424136': 'Hard Candy',\n 'tt0424345': 'Clerks II',\n 'tt0427944': 'Thank You for Smoking',\n 'tt0430922': 'Role Models',\n 'tt0432283': 'Fantastic Mr. Fox',\n 'tt0432348': 'Saw II',\n 'tt0433386': 'The Grudge 2',\n 'tt0434409': 'V for Vendetta',\n 'tt0435625': 'The Descent',\n 'tt0435761': 'Toy Story 3',\n 'tt0440963': 'The Bourne Ultimatum',\n 'tt0441773': 'Kung Fu Panda',\n 'tt0443701': 'The X Files: I Want to Believe',\n 'tt0443706': 'Zodiac',\n 'tt0446029': 'Scott Pilgrim vs. the World',\n 'tt0449059': 'Little Miss Sunshine',\n 'tt0449088': \"Pirates of the Caribbean: At World's End\",\n 'tt0449467': 'Babel',\n 'tt0452598': 'Cheaper by the Dozen 2',\n 'tt0452608': 'Death Race',\n 'tt0452623': 'Gone Baby Gone',\n 'tt0454848': 'Inside Man',\n 'tt0454876': 'Life of Pi',\n 'tt0455590': 'The Last King of Scotland',\n 'tt0457297': 'The Butterfly Effect 2',\n 'tt0458339': 'Captain America: The First Avenger',\n 'tt0458525': 'X-Men Origins: Wolverine',\n 'tt0460780': 'In the Name of the King: A Dungeon Siege Tale',\n 'tt0462538': 'The Simpsons Movie',\n 'tt0462590': 'Step Up',\n 'tt0463854': '28 Weeks Later',\n 'tt0463985': 'The Fast and the Furious: Tokyo Drift',\n 'tt0464141': 'The Orphanage',\n 'tt0464154': 'Piranha 3D',\n 'tt0465538': 'Michael Clayton',\n 'tt0467406': 'Juno',\n 'tt0468569': 'The Dark Knight',\n 'tt0472043': 'Apocalypto',\n 'tt0477347': 'Night at the Museum',\n 'tt0478304': 'The Tree of Life',\n 'tt0478311': 'Knocked Up',\n 'tt0479143': 'Rocky Balboa',\n 'tt0479952': 'Madagascar: Escape 2 Africa',\n 'tt0480239': 'Atlas Shrugged: Part I',\n 'tt0481536': 'Harold & Kumar Escape from Guantanamo Bay',\n 'tt0482571': 'The Prestige',\n 'tt0486576': 'Fantastic Four: Rise of the Silver Surfer',\n 'tt0489270': 'Saw III',\n 'tt0499549': 'Avatar',\n 'tt0758746': 'Friday the 13th',\n 'tt0770828': 'Man of Steel',\n 'tt0780504': 'Drive',\n 'tt0780536': 'In Bruges',\n 'tt0783233': 'Atonement',\n 'tt0790686': 'Mirrors',\n 'tt0796366': 'Star Trek',\n 'tt0800069': 'The Hills Have Eyes II',\n 'tt0800320': 'Clash of the Titans',\n 'tt0816711': 'World War Z',\n 'tt0822832': 'Marley & Me',\n 'tt0824747': 'Changeling',\n 'tt0829482': 'Superbad',\n 'tt0830515': 'Quantum of Solace',\n 'tt0831387': 'Godzilla',\n 'tt0834001': 'Underworld: Rise of the Lycans',\n 'tt0838221': 'The Darjeeling Limited',\n 'tt0840361': 'The Town',\n 'tt0844760': 'Starship Troopers 3: Marauder',\n 'tt0859163': 'The Mummy: Tomb of the Dragon Emperor',\n 'tt0878804': 'The Blind Side',\n 'tt0887883': 'Burn After Reading',\n 'tt0887912': 'The Hurt Locker',\n 'tt0889583': 'Bruno',\n 'tt0890870': 'Saw IV',\n 'tt0903624': 'The Hobbit: An Unexpected Journey',\n 'tt0910970': 'WALLÃ‚Â·E',\n 'tt0926084': 'Harry Potter and the Deathly Hallows: Part 1',\n 'tt0936501': 'Taken',\n 'tt0947798': 'Black Swan',\n 'tt0964517': 'The Fighter',\n 'tt0983193': 'The Adventures of Tintin',\n 'tt0985694': 'Machete',\n 'tt0988045': 'Sherlock Holmes',\n 'tt0993846': 'The Wolf of Wall Street',\n 'tt1000774': 'Sex and the City',\n 'tt1010048': 'Slumdog Millionaire',\n 'tt1012804': 'Redbelt',\n 'tt1014759': 'Alice in Wonderland',\n 'tt1014775': 'Beverly Hills Chihuahua',\n 'tt1017460': 'Splice',\n 'tt1023481': 'Step Up 2: The Streets',\n 'tt1027718': 'Wall Street: Money Never Sleeps',\n 'tt1029360': 'Poltergeist',\n 'tt1045658': 'Silver Linings Playbook',\n 'tt1046173': 'G.I. Joe: The Rise of Cobra',\n 'tt1049413': 'Up',\n 'tt1053859': 'The Grudge 3',\n 'tt1055369': 'Transformers: Revenge of the Fallen',\n 'tt1060277': 'Cloverfield',\n 'tt1073105': 'The Descent: Part 2',\n 'tt1077258': 'Planet Terror',\n 'tt1080016': 'Ice Age: Dawn of the Dinosaurs',\n 'tt1082868': 'Quarantine',\n 'tt1091191': 'Lone Survivor',\n 'tt1091722': 'Adventureland',\n 'tt1095217': 'Bad Lieutenant: Port of Call New Orleans',\n 'tt1119646': 'The Hangover',\n 'tt1127180': 'Drag Me to Hell',\n 'tt1130884': 'Shutter Island',\n 'tt1136608': 'District 9',\n 'tt1144884': 'The Final Destination',\n 'tt1156398': 'Zombieland',\n 'tt1160368': '12 Rounds',\n 'tt1170358': 'The Hobbit: The Desolation of Smaug',\n 'tt1174954': 'Resident Evil: Degeneration',\n 'tt1179904': 'Paranormal Activity',\n 'tt1182345': 'Moon',\n 'tt1193138': 'Up in the Air',\n 'tt1194173': 'The Bourne Legacy',\n 'tt1204342': 'The Muppets',\n 'tt1205489': 'Gran Torino',\n 'tt1210166': 'Moneyball',\n 'tt1211837': 'Doctor Strange',\n 'tt1216487': 'The Girl Who Played with Fire',\n 'tt1216516': 'Tinker Bell and the Lost Treasure',\n 'tt1228705': 'Iron Man 2',\n 'tt1229238': 'Mission: Impossible - Ghost Protocol',\n 'tt1231277': 'S. Darko',\n 'tt1231580': 'Alvin and the Chipmunks: The Squeakquel',\n 'tt1233227': 'Saw VI',\n 'tt1234541': 'The Butterfly Effect 3: Revelations',\n 'tt1234721': 'RoboCop',\n 'tt1245492': 'This Is the End',\n 'tt1245526': 'RED',\n 'tt1250777': 'Kick-Ass',\n 'tt1259521': 'The Cabin in the Woods',\n 'tt1259571': 'The Twilight Saga: New Moon',\n 'tt1268799': 'A Very Harold & Kumar 3D Christmas',\n 'tt1270798': 'X: First Class',\n 'tt1276104': 'Looper',\n 'tt1277953': \"Madagascar 3: Europe's Most Wanted\",\n 'tt1282140': 'Easy A',\n 'tt1285016': 'The Social Network',\n 'tt1298650': 'Pirates of the Caribbean: On Stranger Tides',\n 'tt1300854': 'Iron Man Three',\n 'tt1302011': 'Kung Fu Panda 2',\n 'tt1306980': '50/50',\n 'tt1318514': 'Rise of the Planet of the Apes',\n 'tt1320244': 'The Last Exorcism',\n 'tt1320253': 'The Expendables',\n 'tt1324999': 'The Twilight Saga: Breaking Dawn - Part 1',\n 'tt1340800': 'Tinker Tailor Soldier Spy',\n 'tt1345836': 'The Dark Knight Rises',\n 'tt1386697': 'Suicide Squad',\n 'tt1392170': 'The Hunger Games',\n 'tt1392214': 'Prisoners',\n 'tt1397280': 'Taken 2',\n 'tt1398426': 'Straight Outta Compton',\n 'tt1408101': 'Star Trek Into Darkness',\n 'tt1409024': 'Men in Black 3',\n 'tt1411697': 'The Hangover Part II',\n 'tt1431045': 'Deadpool',\n 'tt1438176': 'Fright Night',\n 'tt1446714': 'Prometheus',\n 'tt1454468': 'Gravity',\n 'tt1457767': 'The Conjuring',\n 'tt1465522': 'Tucker and Dale vs Evil',\n 'tt1470827': 'Monsters',\n 'tt1478338': 'Bridesmaids',\n 'tt1490017': 'The Lego Movie',\n 'tt1496025': 'Underworld Awakening',\n 'tt1499658': 'Horrible Bosses',\n 'tt1515091': 'Sherlock Holmes: A Game of Shadows',\n 'tt1517489': 'Spy Kids: All the Time in the World in 4D',\n 'tt1535109': 'Captain Phillips',\n 'tt1536044': 'Paranormal Activity 2',\n 'tt1568346': 'The Girl with the Dragon Tattoo',\n 'tt1571243': 'Sniper: Reloaded',\n 'tt1583421': 'G.I. Joe: Retaliation',\n 'tt1596365': 'The Woman in Black',\n 'tt1606389': 'The Vow',\n 'tt1622979': 'Final Destination 5',\n 'tt1631867': 'Edge of Tomorrow',\n 'tt1634122': 'Johnny English Reborn',\n 'tt1646987': 'Wrath of the Titans',\n 'tt1650554': 'Kick-Ass 2',\n 'tt1655442': 'The Artist',\n 'tt1659343': 'Universal Soldier: Day of Reckoning',\n 'tt1667889': 'Ice Age: Continental Drift',\n 'tt1690953': 'Despicable Me 2',\n 'tt1699231': 'Quarantine 2: Terminal',\n 'tt1706620': 'Snowpiercer',\n 'tt1714203': 'Piranha 3DD',\n 'tt1748122': 'Moonrise Kingdom',\n 'tt1748227': 'The Collection',\n 'tt1790864': 'The Maze Runner',\n 'tt1790885': 'Zero Dark Thirty',\n 'tt1817273': 'The Place Beyond the Pines',\n 'tt1821694': 'RED 2',\n 'tt1840309': 'Divergent',\n 'tt1843866': 'Captain America: The Winter Soldier',\n 'tt1855199': 'End of Watch',\n 'tt1855325': 'Resident Evil: Retribution',\n 'tt1865567': 'Wrong Turn 4: Bloody Beginnings',\n 'tt1872181': 'The Amazing Spider-Man 2',\n 'tt1877832': 'X-Men: Days of Future Past',\n 'tt1895587': 'Spotlight',\n 'tt1905041': 'Furious 6',\n 'tt1915581': 'Magic Mike',\n 'tt1935179': 'Mud',\n 'tt1939659': 'Carrie',\n 'tt1951261': 'The Hangover Part III',\n 'tt1951264': 'The Hunger Games: Catching Fire',\n 'tt1951265': 'The Hunger Games: Mockingjay - Part 1',\n 'tt1959490': 'Noah',\n 'tt1979320': 'Rush',\n 'tt2015381': 'Guardians of the Galaxy',\n 'tt2024544': '12 Years a Slave',\n 'tt2053463': 'Side Effects',\n 'tt2058673': 'Point Break',\n 'tt2080374': 'Steve Jobs',\n 'tt2096673': 'Inside Out',\n 'tt2101441': 'Spring Breakers',\n 'tt2109184': 'Paranormal Activity 4',\n 'tt2109248': 'Transformers: Age of Extinction',\n 'tt2119532': 'Hacksaw Ridge',\n 'tt2179136': 'American Sniper',\n 'tt2226417': 'Insidious: Chapter 2',\n 'tt2245084': 'Big Hero Six',\n 'tt2267998': 'Gone Girl',\n 'tt2277860': 'Finding Dory',\n 'tt2278388': 'The Grand Budapest Hotel',\n 'tt2281587': 'Muppets Most Wanted',\n 'tt2293640': 'Minions',\n 'tt2294449': '22 Jump Street',\n 'tt2294629': 'Frozen',\n 'tt2302755': 'Olympus Has Fallen',\n 'tt2310332': 'The Hobbit: The Battle of the Five Armies',\n 'tt2339741': 'The Woman in Black 2: Angel of Death',\n 'tt2379713': 'Spectre',\n 'tt2395427': 'Avengers: Age of Ultron',\n 'tt2446042': 'Taken 3',\n 'tt2488496': 'Star Wars: Episode VII - The Force Awakens',\n 'tt2543164': 'Arrival',\n 'tt2567026': 'Alice Through the Looking Glass',\n 'tt2582782': 'Hell or High Water',\n 'tt2582802': 'Whiplash',\n 'tt2599716': 'Police Story: Lockdown',\n 'tt2872718': 'Nightcrawler',\n 'tt2908446': 'Insurgent',\n 'tt2948356': 'Zootopia',\n 'tt2975590': 'Batman v Superman',\n 'tt3065204': 'The Conjuring 2',\n 'tt3170832': 'Room',\n 'tt3195644': 'Insidious: Chapter 3',\n 'tt3315342': 'Logan',\n 'tt3322940': 'Annabelle',\n 'tt3385516': 'X-Men: Apocalypse',\n 'tt3397884': 'Sicario',\n 'tt3460252': 'The Hateful Eight',\n 'tt3464902': 'The Lobster',\n 'tt3470600': 'Sing',\n 'tt3498820': 'Captain America: Civil War',\n 'tt3659388': 'The Martian',\n 'tt3799694': 'The Nice Guys',\n 'tt4034228': 'Manchester by the Sea',\n 'tt4550098': 'Nocturnal Animals',\n 'tt5052448': 'Get Out'}"
      ]
     },
     "execution_count": 30,
     "metadata": {},
     "output_type": "execute_result"
    }
   ],
   "source": [
    "movie_imdb2name"
   ]
  },
  {
   "cell_type": "code",
   "execution_count": 31,
   "metadata": {},
   "outputs": [
    {
     "name": "stdout",
     "output_type": "stream",
     "text": [
      "921\n"
     ]
    }
   ],
   "source": [
    "print(len(embed_np))"
   ]
  },
  {
   "cell_type": "code",
   "execution_count": 32,
   "metadata": {},
   "outputs": [
    {
     "data": {
      "text/plain": [
       "'tt0322589'"
      ]
     },
     "execution_count": 32,
     "metadata": {},
     "output_type": "execute_result"
    }
   ],
   "source": [
    "i2w_movies['1']"
   ]
  },
  {
   "cell_type": "code",
   "execution_count": 33,
   "metadata": {},
   "outputs": [],
   "source": [
    "len(embed_np) #does this include unk?"
   ]
  },
  {
   "cell_type": "code",
   "execution_count": 34,
   "metadata": {},
   "outputs": [
    {
     "name": "stdout",
     "output_type": "stream",
     "text": [
      "tt0322589 1 Honey\ntt1080016 2 Ice Age: Dawn of the Dinosaurs\ntt0887912 3 The Hurt Locker\ntt0302886 4 Old School\ntt0111257 5 Speed\ntt0366551 6 Harold & Kumar Go to White Castle\ntt1386697 7 Suicide Squad\ntt0114709 9 Toy Story\ntt1431045 10 Deadpool\ntt2277860 11 Finding Dory\ntt0114369 12 Se7en\ntt0123755 13 Cube\ntt0077416 14 The Deer Hunter\ntt0936501 15 Taken\ntt0319343 16 Elf\ntt1478338 17 Bridesmaids\ntt0120382 18 The Truman Show\ntt0071562 19 The Godfather: Part II\ntt0454848 20 Inside Man\ntt0478304 21 The Tree of Life\ntt0369226 22 Alone in the Dark\ntt0477347 23 Night at the Museum\ntt1216516 25 Tinker Bell and the Lost Treasure\ntt0434409 26 V for Vendetta\ntt0209163 28 The Mummy Returns\ntt0110632 29 Natural Born Killers\ntt1298650 30 Pirates of the Caribbean: On Stranger Tides\ntt0351283 31 Madagascar\ntt0103956 32 Child's Play 3\ntt0087298 33 Friday the 13th: The Final Chapter\ntt1714203 34 Piranha 3DD\ntt0257106 35 Scary Movie 2\ntt4034228 36 Manchester by the Sea\ntt1392170 37 The Hunger Games\ntt0100758 38 Teenage Mutant Ninja Turtles\ntt0105323 39 Scent of a Woman\ntt0204313 40 Exorcist: The Beginning\ntt2024544 41 12 Years a Slave\ntt3659388 42 The Martian\ntt0420223 43 Stranger Than Fiction\ntt0800069 44 The Hills Have Eyes II\ntt0816711 46 World War Z\ntt0399295 47 Lord of War\ntt0159273 48 Behind Enemy Lines\ntt1392214 50 Prisoners\ntt0081573 51 Superman II\ntt0432348 52 Saw II\ntt0111161 53 The Shawshank Redemption\ntt2119532 54 Hacksaw Ridge\ntt0058150 55 Goldfinger\ntt0454876 56 Life of Pi\ntt0307901 57 25th Hour\ntt0078346 58 Superman\ntt0126029 59 Shrek\ntt2281587 60 Muppets Most Wanted\ntt1646987 61 Wrath of the Titans\ntt0118749 62 Boogie Nights\ntt1210166 63 Moneyball\ntt0083944 65 First Blood\ntt0034583 66 Casablanca\ntt1259521 67 The Cabin in the Woods\ntt0264464 68 Catch Me If You Can\ntt0338459 69 Spy Kids 3: Game Over\ntt0360717 70 King Kong\ntt1536044 71 Paranormal Activity 2\ntt0082096 72 Das Boot\ntt0385307 73 Miss Congeniality 2: Armed and Fabulous\ntt0840361 74 The Town\ntt0377092 75 Mean Girls\ntt2096673 76 Inside Out\ntt0119396 77 Jackie Brown\ntt0257044 80 Road to Perdition\ntt0234215 82 The Matrix Reloaded\ntt0117571 83 Scream\ntt0103639 85 Aladdin\ntt0838221 86 The Darjeeling Limited\ntt0305357 87 Charlie's Angels: Full Throttle\ntt0084602 88 Rocky III\ntt0316654 89 Spider-Man 2\ntt1817273 90 The Place Beyond the Pines\ntt0413267 91 Shrek the Third\ntt0356470 92 A Cinderella Story\ntt0105698 93 Universal Soldier\ntt0075148 94 Rocky\ntt2339741 95 The Woman in Black 2: Angel of Death\ntt1216487 96 The Girl Who Played with Fire\ntt0377109 97 The Ring Two\ntt0112281 98 Ace Ventura: When Nature Calls\ntt0110357 100 The Lion King\ntt0072890 101 Dog Day Afternoon\ntt2567026 102 Alice Through the Looking Glass\ntt0069768 103 Battle for the Planet of the Apes\ntt0089530 104 Mad Max Beyond Thunderdome\ntt1650554 105 Kick-Ass 2\ntt2179136 106 American Sniper\ntt0115571 107 The Arrival\ntt1951264 108 The Hunger Games: Catching Fire\ntt0790686 109 Mirrors\ntt0449059 110 Little Miss Sunshine\ntt2599716 111 Police Story: Lockdown\ntt0113277 112 Heat\ntt0079501 113 Mad Max\ntt1073105 114 The Descent: Part 2\ntt0169547 115 American Beauty\ntt0120363 116 Toy Story 2\ntt0181865 117 Traffic\ntt1895587 118 Spotlight\ntt0988045 119 Sherlock Holmes\ntt0120755 120 Mission: Impossible II\ntt1571243 122 Sniper: Reloaded\ntt0399146 123 A History of Violence\ntt0117731 124 Star Trek: First Contact\ntt1130884 125 Shutter Island\ntt1027718 126 Wall Street: Money Never Sleeps\ntt0417741 127 Harry Potter and the Half-Blood Prince\ntt0112442 128 Bad Boys\ntt0499549 129 Avatar\ntt0109686 130 Dumb and Dumber\ntt0119567 132 The Lost World: Jurassic Park\ntt0113497 134 Jumanji\ntt0078748 135 Alien\ntt0112573 136 Braveheart\ntt0435625 137 The Descent\ntt1690953 138 Despicable Me 2\ntt0181875 139 Almost Famous\ntt0103776 140 Batman Returns\ntt0082377 141 The Final Conflict\ntt0110148 142 Interview with the Vampire: The Vampire Chronicles\ntt0357507 143 Boogeyman\ntt3170832 144 Room\ntt0432283 145 Fantastic Mr. Fox\ntt1496025 146 Underworld Awakening\ntt0061584 147 Doctor Dolittle\ntt0109830 148 Forrest Gump\ntt0120669 150 Fear and Loathing in Las Vegas\ntt0844760 151 Starship Troopers 3: Marauder\ntt0217505 152 Gangs of New York\ntt0056592 153 To Kill a Mockingbird\ntt0320691 154 Underworld\ntt3385516 157 X-Men: Apocalypse\ntt0063442 158 Planet of the Apes\ntt0175142 159 Scary Movie\ntt0061452 160 Casino Royale\ntt0317219 161 Cars\ntt3470600 162 Sing\ntt0092890 163 Dirty Dancing\ntt0120623 164 A Bugs Life\ntt1667889 165 Ice Age: Continental Drift\ntt0330373 166 Harry Potter and the Goblet of Fire\ntt0112453 167 Balto\ntt1583421 168 G.I. Joe: Retaliation\ntt2872718 169 Nightcrawler\ntt0089218 170 The Goonies\ntt1245492 171 This Is the End\ntt0100157 172 Misery\ntt0116629 173 Independence Day\ntt0094862 174 Child's Play\ntt1014759 175 Alice in Wonderland\ntt0098382 176 Star Trek V: The Final Frontier\ntt0441773 177 Kung Fu Panda\ntt0245712 178 Amores Perros\ntt0319061 179 Big Fish\ntt1517489 180 Spy Kids: All the Time in the World in 4D\ntt0167190 181 Hellboy\ntt0480239 182 Atlas Shrugged: Part I\ntt0800320 183 Clash of the Titans\ntt0365748 184 Shaun of the Dead\ntt0077681 185 The Hills Have Eyes\ntt0099348 186 Dances with Wolves\ntt0947798 187 Black Swan\ntt0120586 188 American History X\ntt0075005 189 The Omen\ntt0074483 190 The Enforcer\ntt1340800 191 Tinker Tailor Soldier Spy\ntt1490017 193 The Lego Movie\ntt1205489 194 Gran Torino\ntt1211837 195 Doctor Strange\ntt1320253 196 The Expendables\ntt0212346 197 Miss Congeniality\ntt0114814 198 The Usual Suspects\ntt0859163 199 The Mummy: Tomb of the Dragon Emperor\ntt0119177 200 Gattaca\ntt0143145 201 The World Is Not Enough\ntt0317705 202 The Incredibles\ntt0098105 204 Police Academy 6: City Under Siege\ntt0120903 205 X-Men\ntt0180093 206 Requiem for a Dream\ntt0317198 207 Bridget Jones: The Edge of Reason\ntt1300854 209 Iron Man Three\ntt0087843 210 Once Upon a Time in America\ntt0103759 212 Bad Lieutenant\ntt1409024 213 Men in Black 3\ntt1699231 214 Quarantine 2: Terminal\ntt0080455 215 The Blues Brothers\ntt0105236 216 Reservoir Dogs\ntt0463985 217 The Fast and the Furious: Tokyo Drift\ntt0878804 218 The Blind Side\ntt1790885 220 Zero Dark Thirty\ntt0443706 221 Zodiac\ntt1170358 222 The Hobbit: The Desolation of Smaug\ntt1411697 224 The Hangover Part II\ntt0094963 225 The Dead Pool\ntt0926084 226 Harry Potter and the Deathly Hallows: Part 1\ntt0127536 227 Elizabeth\ntt1634122 228 Johnny English Reborn\ntt3195644 229 Insidious: Chapter 3\ntt0208092 230 Snatch\ntt1234721 231 RoboCop\ntt0376994 232 X-Men: The Last Stand\ntt0374900 233 Napoleon Dynamite\ntt1136608 234 District 9\ntt0101917 235 Freddy's Dead: The Final Nightmare\ntt0414982 236 Final Destination 3\ntt0162661 237 Sleepy Hollow\ntt1119646 238 The Hangover\ntt0333766 239 Garden State\ntt0046435 240 Titanic\ntt0120812 241 Rush Hour\ntt0090605 242 Aliens\ntt1045658 244 Silver Linings Playbook\ntt0462538 245 The Simpsons Movie\ntt0383574 246 Pirates of the Caribbean: Dead Man's Chest\ntt0139654 247 Training Day\ntt0084726 248 Star Trek II: The Wrath of Khan\ntt0107254 249 Jason Goes to Hell: The Final Friday\ntt0089370 250 The Jewel of the Nile\ntt0449088 251 Pirates of the Caribbean: At World's End\ntt0413300 252 Spider-Man 3\ntt0298148 253 Shrek 2\ntt0108333 254 The Three Musketeers\ntt0099528 255 The Exorcist III\ntt0452623 256 Gone Baby Gone\ntt0458339 257 Captain America: The First Avenger\ntt1951261 258 The Hangover Part III\ntt0120611 259 Blade\ntt0275847 260 Lilo & Stitch\ntt0065126 261 True Grit\ntt2302755 262 Olympus Has Fallen\ntt0109445 263 Clerks\ntt0094291 264 Wall Street\ntt0117060 265 Mission: Impossible\ntt1706620 266 Snowpiercer\ntt0337697 267 The Prince and Me\ntt1277953 268 Madagascar 3: Europe's Most Wanted\ntt1606389 269 The Vow\ntt0120762 270 Mulan\ntt0087755 271 The Muppets Take Manhattan\ntt1046173 272 G.I. Joe: The Rise of Cobra\ntt0034492 273 Bambi\ntt0435761 274 Toy Story 3\ntt0119698 275 Princess Mononoke\ntt1659343 276 Universal Soldier: Day of Reckoning\ntt0440963 277 The Bourne Ultimatum\ntt0096754 279 The Abyss\ntt0489270 280 Saw III\ntt1465522 281 Tucker and Dale vs Evil\ntt0293662 282 The Transporter\ntt1865567 283 Wrong Turn 4: Bloody Beginnings\ntt1877832 284 X-Men: Days of Future Past\ntt0257076 285 S.W.A.T.\ntt0120815 286 Saving Private Ryan\ntt0120902 287 The X Files\ntt0088247 288 The Terminator\ntt1872181 289 The Amazing Spider-Man 2\ntt0119654 290 Men in Black\ntt0120601 291 Being John Malkovich\ntt0091080 292 Jason Lives: Friday the 13th Part VI\ntt1855325 293 Resident Evil: Retribution\ntt0031381 294 Gone with the Wind\ntt1029360 295 Poltergeist\ntt0259446 296 My Big Fat Greek Wedding\ntt0338751 297 The Aviator\ntt0983193 298 The Adventures of Tintin\ntt0361748 299 Inglourious Basterds\ntt0181689 300 Minority Report\ntt0032138 301 The Wizard of Oz\ntt0176269 302 Universal Soldier: The Return\ntt0890870 303 Saw IV\ntt1245526 304 RED\ntt3065204 305 The Conjuring 2\ntt1438176 306 Fright Night\ntt1470827 307 Monsters\ntt0465538 308 Michael Clayton\ntt0091326 309 The Karate Kid Part II\ntt0099785 310 Home Alone\ntt0366548 311 Happy Feet\ntt0121765 312 Star Wars: Episode II - Attack of the Clones\ntt0349903 313 Ocean's Twelve\ntt0103772 314 Basic Instinct\ntt2226417 315 Insidious: Chapter 2\ntt0258463 316 The Bourne Identity\ntt0243155 317 Bridget Jones's Diary\ntt0137523 318 Fight Club\ntt0314331 319 Love Actually\ntt0121766 320 Star Wars: Episode III - Revenge of the Sith\ntt0378109 321 Into the Blue\ntt0295297 322 Harry Potter and the Chamber of Secrets\ntt1748122 323 Moonrise Kingdom\ntt0298130 324 The Ring\ntt0887883 325 Burn After Reading\ntt0077631 326 Grease\ntt0486576 327 Fantastic Four: Rise of the Silver Surfer\ntt0106308 328 Army of Darkness\ntt0058461 329 A Fistful of Dollars\ntt0064276 330 Easy Rider\ntt0097428 331 Ghostbusters II\ntt0065462 332 Beneath the Planet of the Apes\ntt0088011 333 Romancing the Stone\ntt0482571 334 The Prestige\ntt0086154 335 Psycho II\ntt0106220 336 Addams Family Values\ntt0463854 337 28 Weeks Later\ntt0172495 338 Gladiator\ntt0096895 339 Batman\ntt0076759 340 Star Wars: Episode IV - A New Hope\ntt0057413 341 The Pink Panther\ntt0114194 342 The Prophecy\ntt1320244 343 The Last Exorcism\ntt0069089 344 Pink Flamingos\ntt2267998 345 Gone Girl\ntt0082010 346 An American Werewolf in London\ntt0066999 347 Dirty Harry\ntt2446042 348 Taken 3\ntt0117666 349 Sling Blade\ntt0082971 350 Raiders of the Lost Ark\ntt0092965 351 Empire of the Sun\ntt0087363 352 Gremlins\ntt0443701 353 The X Files: I Want to Believe\ntt0903624 354 The Hobbit: An Unexpected Journey\ntt0116367 355 From Dusk Till Dawn\ntt0455590 356 The Last King of Scotland\ntt0077975 357 Animal House\ntt0095889 358 Poltergeist III\ntt0118715 359 The Big Lebowski\ntt3460252 360 The Hateful Eight\ntt0088847 361 The Breakfast Club\ntt0067065 362 Escape from the Planet of the Apes\ntt1268799 363 A Very Harold & Kumar 3D Christmas\ntt0783233 364 Atonement\ntt0373469 365 Kiss Kiss Bang Bang\ntt0266697 366 Kill Bill: Vol. 1\ntt1077258 367 Planet Terror\ntt0076009 368 Exorcist II: The Heretic\ntt1228705 369 Iron Man 2\ntt0195714 370 Final Destination\ntt0985694 371 Machete\ntt1840309 372 Divergent\ntt0162222 373 Cast Away\ntt0104257 374 A Few Good Men\ntt1915581 375 Magic Mike\ntt0190590 376 O Brother, Where Art Thou?\ntt0167261 378 The Lord of the Rings: The Two Towers\ntt0187738 379 Blade II\ntt0458525 381 X-Men Origins: Wolverine\ntt1515091 382 Sherlock Holmes: A Game of Shadows\ntt0479952 383 Madagascar: Escape 2 Africa\ntt2948356 384 Zootopia\ntt0111686 385 New Nightmare\ntt0318627 386 Resident Evil: Apocalypse\ntt0083907 387 The Evil Dead\ntt0468569 388 The Dark Knight\ntt0427944 389 Thank You for Smoking\ntt1306980 390 50/50\ntt0910970 391 WALLÃ‚Â·E\ntt0371746 392 Iron Man\ntt1408101 394 Star Trek Into Darkness\ntt0103064 395 Terminator 2: Judgment Day\ntt1193138 396 Up in the Air\ntt0134119 397 The Talented Mr. Ripley\ntt0055254 398 101 Dalmatians\ntt0119683 399 Les MisÃƒÂ©rables\ntt0106977 401 The Fugitive\ntt0357413 402 Anchorman: The Legend of Ron Burgundy\ntt0328107 403 Man on Fire\ntt1259571 404 The Twilight Saga: New Moon\ntt0373889 405 Harry Potter and the Order of the Phoenix\ntt0092076 406 The Texas Chainsaw Massacre 2\ntt0023427 407 Scarface\ntt0993846 408 The Wolf of Wall Street\ntt0120188 409 Three Kings\ntt0457297 410 The Butterfly Effect 2\ntt0462590 411 Step Up\ntt0206634 412 Children of Men\ntt0405422 413 The 40-Year-Old Virgin\ntt1446714 414 Prometheus\ntt0232500 415 The Fast and the Furious\ntt0055824 416 Cape Fear\ntt0388795 417 Brokeback Mountain\ntt0452598 418 Cheaper by the Dozen 2\ntt0096874 419 Back to the Future Part II\ntt0367882 420 Indiana Jones and the Kingdom of the Crystal Skull\ntt0349205 422 Cheaper by the Dozen\ntt0082340 423 Escape from New York\ntt1055369 424 Transformers: Revenge of the Fallen\ntt2245084 425 Big Hero Six\ntt0337978 426 Live Free or Die Hard\ntt0266543 427 Finding Nemo\ntt0241527 428 Harry Potter and the Sorcerer's Stone\ntt2908446 429 Insurgent\ntt2293640 430 Minions\ntt0116483 432 Happy Gilmore\ntt0120201 433 Starship Troopers\ntt0053125 434 North by Northwest\ntt0315733 435 21 Grams\ntt0106950 437 Fortress\ntt0175880 438 Magnolia\ntt0401855 439 Underworld: Evolution\ntt0246578 440 Donnie Darko\ntt0359013 442 Blade: Trinity\ntt0317919 443 Mission: Impossible III\ntt0211915 444 AmÃƒÂ©lie\ntt0119116 445 The Fifth Element\ntt0401792 446 Sin City\ntt1622979 447 Final Destination 5\ntt0289765 448 Red Dragon\ntt0095179 449 Friday the 13th Part VII: The New Blood\ntt0112384 451 Apollo 13\ntt1179904 452 Paranormal Activity\ntt0086425 453 Terms of Endearment\ntt0097576 454 Indiana Jones and the Last Crusade\ntt2294629 455 Frozen\ntt2294449 456 22 Jump Street\ntt0089173 457 Friday the 13th: A New Beginning\ntt0467406 458 Juno\ntt0368891 459 National Treasure\ntt0084805 460 Tootsie\ntt0418279 461 Transformers\ntt0068931 462 The Mechanic\ntt0405094 463 The Lives of Others\ntt0120082 464 Scream 2\ntt0097733 465 Lethal Weapon 2\ntt0097493 466 Heathers\ntt1017460 467 Splice\ntt1194173 468 The Bourne Legacy\ntt0055928 469 Dr. No\ntt0196229 470 Zoolander\ntt0266308 471 Battle Royale\ntt5052448 472 Get Out\ntt0094737 473 Big\ntt1156398 474 Zombieland\ntt0304141 475 Harry Potter and the Prisoner of Azkaban\ntt0092005 476 Stand by Me\ntt4550098 477 Nocturnal Animals\ntt1535109 478 Captain Phillips\ntt1270798 479 X: First Class\ntt0120888 480 The Wedding Singer\ntt0464141 481 The Orphanage\ntt0120663 482 Eyes Wide Shut\ntt1010048 483 Slumdog Millionaire\ntt0116704 484 Police Story 4: First Strike\ntt0107206 485 In the Line of Fire\ntt0362120 486 Scary Movie 4\ntt0108399 487 True Romance\ntt0091064 488 The Fly\ntt0073012 489 The Four Musketeers: Milady's Revenge\ntt1234541 490 The Butterfly Effect 3: Revelations\ntt0095765 491 Cinema Paradiso\ntt0433386 492 The Grudge 2\ntt0097351 493 Field of Dreams\ntt1748227 494 The Collection\ntt0066995 495 Diamonds Are Forever\ntt0758746 496 Friday the 13th\ntt1127180 497 Drag Me to Hell\ntt0146882 498 High Fidelity\ntt0071230 499 Blazing Saddles\ntt0289879 500 The Butterfly Effect\ntt0092991 501 Evil Dead II\ntt1596365 502 The Woman in Black\ntt0068646 503 The Godfather\ntt1499658 504 Horrible Bosses\ntt1233227 505 Saw VI\ntt2109184 506 Paranormal Activity 4\ntt1082868 507 Quarantine\ntt0163651 508 American Pie\ntt0822832 509 Marley & Me\ntt0089822 510 Police Academy 2: Their First Assignment\ntt0093437 511 The Lost Boys\ntt0128442 512 Rounders\ntt0375063 513 Sideways\ntt0172156 514 Bad Boys II\ntt1053859 515 The Grudge 3\ntt1095217 516 Bad Lieutenant: Port of Call New Orleans\ntt1049413 517 Up\ntt0391198 518 The Grudge\ntt0099674 519 The Godfather: Part III\ntt0449467 520 Babel\ntt2582802 521 Whiplash\ntt1318514 522 Rise of the Planet of the Apes\ntt0383222 523 BloodRayne\ntt0373883 524 Halloween\ntt0460780 525 In the Name of the King: A Dungeon Siege Tale\ntt0091763 526 Platoon\ntt0095953 527 Rain Man\ntt1144884 528 The Final Destination\ntt0099685 529 Goodfellas\ntt0099487 530 Edward Scissorhands\ntt0387564 531 Saw\ntt0144084 532 American Psycho\ntt1276104 533 Looper\ntt1014775 534 Beverly Hills Chihuahua\ntt0087538 535 The Karate Kid\ntt0317248 536 City of God\ntt0424345 537 Clerks II\ntt0097441 538 Glory\ntt0080678 539 The Elephant Man\ntt0829482 540 Superbad\ntt0309593 541 Final Destination 2\ntt0098621 542 The War of the Roses\ntt1939659 543 Carrie\ntt1012804 544 Redbelt\ntt2053463 545 Side Effects\ntt0430922 546 Role Models\ntt1204342 547 The Muppets\ntt0265086 548 Black Hawk Down\ntt0079945 549 Star Trek: The Motion Picture\ntt0116225 550 Escape from L.A.\ntt0424136 551 Hard Candy\ntt0119094 552 Face/Off\ntt0382932 553 Ratatouille\ntt0889583 554 Bruno\ntt0290334 555 X2\ntt0181852 556 Terminator 3: Rise of the Machines\ntt1398426 557 Straight Outta Compton\ntt0077394 558 Damien: Omen II\ntt1655442 559 The Artist\ntt2015381 560 Guardians of the Galaxy\ntt1023481 561 Step Up 2: The Streets\ntt0083929 562 Fast Times at Ridgemont High\ntt2101441 563 Spring Breakers\ntt0056172 564 Lawrence of Arabia\ntt0770828 565 Man of Steel\ntt0112471 566 Before Sunrise\ntt0047296 567 On the Waterfront\ntt2582782 568 Hell or High Water\ntt1631867 569 Edge of Tomorrow\ntt1821694 570 RED 2\ntt0099253 571 Child's Play 2\ntt1345836 572 The Dark Knight Rises\ntt0119345 573 I Know What You Did Last Summer\ntt0964517 574 The Fighter\ntt1959490 575 Noah\ntt2109248 576 Transformers: Age of Extinction\ntt1302011 577 Kung Fu Panda 2\ntt0119303 578 Home Alone 3\ntt0322259 579 2 Fast 2 Furious\ntt0159097 580 The Virgin Suicides\ntt2310332 581 The Hobbit: The Battle of the Five Armies\ntt0086190 582 Star Wars: Episode VI - Return of the Jedi\ntt0109831 583 Four Weddings and a Funeral\ntt0368933 584 The Princess Diaries 2: Royal Engagement\ntt0796366 585 Star Trek\ntt0177789 586 Galaxy Quest\ntt0831387 587 Godzilla\ntt0369339 588 Collateral\ntt0452608 589 Death Race\ntt0104692 590 The Lawnmower Man\ntt1174954 591 Resident Evil: Degeneration\ntt0363547 592 Dawn of the Dead\ntt1231277 593 S. Darko\ntt0058331 594 Mary Poppins\ntt0116361 595 Freeway\ntt2379713 596 Spectre\ntt0472043 597 Apocalypto\ntt0091777 598 Police Academy 3: Back in Training\ntt0155975 599 Psycho\ntt0307987 600 Bad Santa\ntt0478311 601 Knocked Up\ntt0089927 602 Rocky IV\ntt0242653 603 The Matrix Revolutions\ntt1285016 604 The Social Network\ntt0097165 605 Dead Poets Society\ntt1160368 606 12 Rounds\ntt0245429 607 Spirited Away\ntt0117381 608 Primal Fear\ntt0286716 609 Hulk\ntt1454468 610 Gravity\ntt1000774 611 Sex and the City\ntt0081505 612 The Shining\ntt1231580 613 Alvin and the Chipmunks: The Squeakquel\ntt1568346 614 The Girl with the Dragon Tattoo\ntt1091722 615 Adventureland\ntt0094074 616 Superman IV: The Quest for Peace\ntt0481536 "
     ]
    },
    {
     "name": "stdout",
     "output_type": "stream",
     "text": [
      "617 Harold & Kumar Escape from Guantanamo Bay\ntt0092099 618 Top Gun\ntt0335266 619 Lost in Translation\ntt0075686 620 Annie Hall\ntt0061418 621 Bonnie and Clyde\ntt0099077 622 Awakenings\ntt0120689 623 The Green Mile\ntt1060277 624 Cloverfield\ntt0091778 625 Poltergeist II: The Other Side\ntt1951265 626 The Hunger Games: Mockingjay - Part 1\ntt3322940 627 Annabelle\ntt2543164 628 Arrival\ntt0104558 629 Supercop\ntt0108358 630 Tombstone\ntt0217869 631 Unbreakable\ntt0134084 632 Scream 3\ntt0393109 633 Brick\ntt0446029 634 Scott Pilgrim vs. the World\ntt1979320 635 Rush\ntt0125664 636 Man on the Moon\ntt0088846 637 Brazil\ntt3397884 638 Sicario\ntt0095403 639 Police Story 2\ntt1790864 640 The Maze Runner\ntt0367959 641 Hannibal Rising\ntt1324999 642 The Twilight Saga: Breaking Dawn - Part 1\ntt1905041 643 Furious 6\ntt0259324 644 Ghost Rider\ntt0057115 645 The Great Escape\ntt1457767 646 The Conjuring\ntt0064665 647 Midnight Cowboy\ntt0408306 648 Munich\ntt0079470 649 Life of Brian\ntt2080374 650 Steve Jobs\ntt2058673 651 Point Break\ntt0375912 652 Layer Cake\ntt3464902 653 The Lobster\ntt0090863 654 The Color of Money\ntt0089374 655 Police Story\ntt0129167 656 The Iron Giant\ntt0780504 657 Drive\ntt0102138 658 JFK\ntt3315342 659 Logan\ntt0097388 660 Friday the 13th Part VIII: Jason Takes Manhattan\ntt0032910 661 Pinocchio\ntt0076752 662 The Spy Who Loved Me\ntt0097647 663 The Karate Kid Part III\ntt0092007 664 Star Trek IV: The Voyage Home\ntt0155267 665 The Thomas Crown Affair\ntt0464154 666 Piranha 3D\ntt0120912 667 Men in Black II\ntt1855199 668 End of Watch\ntt0107048 669 Groundhog Day\ntt1843866 670 Captain America: The Winter Soldier\ntt0097757 671 The Little Mermaid\ntt0083658 672 Blade Runner\ntt0335345 673 The Passion of the Christ\ntt0101507 674 Boyz n the Hood\ntt0102926 675 The Silence of the Lambs\ntt2278388 676 The Grand Budapest Hotel\ntt0099994 677 Leatherface: Texas Chainsaw Massacre III\ntt0266987 678 Spy Game\ntt1282140 679 Easy A\ntt0276919 680 Dogville\ntt1397280 681 Taken 2\ntt0079522 682 Manhattan\ntt0126886 683 Election\ntt0382625 684 The Da Vinci Code\ntt0834001 685 Underworld: Rise of the Lycans\ntt0070047 686 The Exorcist\ntt0130018 687 I Still Know What You Did Last Summer\ntt0087332 688 Ghostbusters\ntt0061512 689 Cool Hand Luke\ntt0230600 690 The Others\ntt1250777 691 Kick-Ass\ntt0114367 692 Screamers\ntt0060196 695 The Good, the Bad and the Ugly\ntt0824747 698 Changeling\ntt3498820 700 Captain America: Civil War\ntt1091191 701 Lone Survivor\ntt0338013 704 Eternal Sunshine of the Spotless Mind\ntt0780536 707 In Bruges\ntt0830515 708 Quantum of Solace\ntt2395427 709 Avengers: Age of Ultron\ntt2975590 711 Batman v Superman\ntt0118971 712 The Devils Advocate\ntt2488496 713 Star Wars: Episode VII - The Force Awakens\ntt1182345 716 Moon\ntt0066921 717 A Clockwork Orange\ntt1935179 718 Mud\ntt1229238 723 Mission: Impossible - Ghost Protocol\ntt0325703 724 Lara Croft Tomb Raider: The Cradle of Life\ntt0479143 726 Rocky Balboa\ntt0140352 727 The Insider\ntt3799694 729 The Nice Guys\ntt0057012 730 Dr. Strangelove or: How I Learned to Stop Worrying and Love the Bomb\n"
     ]
    }
   ],
   "source": [
    "names_train = []\n",
    "embeds_train = []\n",
    "\n",
    "for m in movie_imdb2name:\n",
    "    embed_id = w2i_movies[m]\n",
    "    print(m,embed_id,movie_imdb2name[m])\n",
    "    embeds_train.append(embed_np[embed_id]/np.linalg.norm(embed_np[embed_id]))\n",
    "    names_train.append(movie_imdb2name[m])"
   ]
  },
  {
   "cell_type": "code",
   "execution_count": 35,
   "metadata": {},
   "outputs": [
    {
     "data": {
      "text/plain": [
       "678"
      ]
     },
     "execution_count": 35,
     "metadata": {},
     "output_type": "execute_result"
    }
   ],
   "source": [
    "len(embeds_train)"
   ]
  },
  {
   "cell_type": "code",
   "execution_count": 46,
   "metadata": {},
   "outputs": [
    {
     "data": {
      "text/html": [
       "\n",
       "    <div class=\"bk-root\">\n",
       "        <a href=\"https://bokeh.pydata.org\" target=\"_blank\" class=\"bk-logo bk-logo-small bk-logo-notebook\"></a>\n",
       "        <span id=\"1630\">Loading BokehJS ...</span>\n",
       "    </div>"
      ],
      "text/plain": [
       "\n",
       "    <div class=\"bk-root\">\n",
       "        <a href=\"https://bokeh.pydata.org\" target=\"_blank\" class=\"bk-logo bk-logo-small bk-logo-notebook\"></a>\n",
       "        <span id=\"1630\">Loading BokehJS ...</span>\n",
       "    </div>"
      ]
     },
     "execution_count": 0,
     "metadata": {},
     "output_type": "execute_result"
    },
    {
     "data": {
      "text/html": [
       "\n",
       "    <div class=\"bk-root\">\n",
       "        <a href=\"https://bokeh.pydata.org\" target=\"_blank\" class=\"bk-logo bk-logo-small bk-logo-notebook\"></a>\n",
       "        <span id=\"1630\">Loading BokehJS ...</span>\n",
       "    </div>"
      ],
      "text/plain": [
       "\n",
       "    <div class=\"bk-root\">\n",
       "        <a href=\"https://bokeh.pydata.org\" target=\"_blank\" class=\"bk-logo bk-logo-small bk-logo-notebook\"></a>\n",
       "        <span id=\"1630\">Loading BokehJS ...</span>\n",
       "    </div>"
      ]
     },
     "execution_count": 0,
     "metadata": {},
     "output_type": "execute_result"
    }
   ],
   "source": [
    "from sklearn.cluster import KMeans\n",
    "from sklearn.manifold import TSNE\n",
    "\n",
    "from bokeh.models import ColumnDataSource, LabelSet\n",
    "\n",
    "from bokeh.plotting import figure, show, output_file\n",
    "from bokeh.palettes import d3\n",
    "from bokeh.io import output_notebook\n",
    "output_notebook()\n",
    "\n",
    "def plot_embeds(data, names, perplexity=30.0, N=20, learning_rate = 200.0, n_iter = 500.0, reduced=False):\n",
    "    \n",
    "    ## Try to find some clusters ##\n",
    "    print(\"Finding clusters\")\n",
    "    kmeans = KMeans(n_clusters=N)\n",
    "    kmeans.fit(data)\n",
    "    klabels = kmeans.labels_\n",
    "\n",
    "    print(\"Fitting tsne\")\n",
    "    tsne = TSNE(n_components=2, perplexity=perplexity, learning_rate=learning_rate, n_iter = n_iter) \n",
    "    if reduced:\n",
    "        data, _ = get_transformed_PCA(data, 32)\n",
    "    emb_tsne = tsne.fit_transform(data)\n",
    "    \n",
    "    #plot with bokeh\n",
    "    # source: https://github.com/oxford-cs-deepnlp-2017/practical-1\n",
    "    p = figure(tools=\"pan,wheel_zoom,reset,save\",\n",
    "               toolbar_location=\"above\",\n",
    "               title=\"T-SNE for frequent words\")\n",
    "\n",
    "    #colormaps and scatter\n",
    "    colormap = d3['Category20'][N]\n",
    "    colors = [colormap[i] for i in klabels]\n",
    "\n",
    "    source = ColumnDataSource(data=dict(x1=emb_tsne[:,0],\n",
    "                                        x2=emb_tsne[:,1],\n",
    "                                        names=names,\n",
    "                                        colors=colors))\n",
    "\n",
    "    p.scatter(x=\"x1\", y=\"x2\", size=8, source=source, color='colors')\n",
    "\n",
    "    labels = LabelSet(x=\"x1\", y=\"x2\", text=\"names\", y_offset=6,\n",
    "                      text_font_size=\"8pt\", text_color=\"#555555\",\n",
    "                      source=source, text_align='center')\n",
    "    p.add_layout(labels)\n",
    "\n",
    "    show(p)"
   ]
  },
  {
   "cell_type": "code",
   "execution_count": 45,
   "metadata": {
    "collapsed": false
   },
   "outputs": [
    {
     "name": "stdout",
     "output_type": "stream",
     "text": [
      "Finding clusters\n"
     ]
    },
    {
     "name": "stdout",
     "output_type": "stream",
     "text": [
      "Fitting tsne\n"
     ]
    },
    {
     "data": {
      "text/html": [
       "\n",
       "\n",
       "\n",
       "\n",
       "\n",
       "\n",
       "  <div class=\"bk-root\" id=\"d731d8e0-9f61-4bda-9339-939e6e2e99d4\"></div>\n"
      ],
      "text/plain": [
       "\n",
       "\n",
       "\n",
       "\n",
       "\n",
       "\n",
       "  <div class=\"bk-root\" id=\"d731d8e0-9f61-4bda-9339-939e6e2e99d4\"></div>\n"
      ]
     },
     "execution_count": 0,
     "metadata": {},
     "output_type": "execute_result"
    },
    {
     "data": {
      "text/html": [
       "\n",
       "\n",
       "\n",
       "\n",
       "\n",
       "\n",
       "  <div class=\"bk-root\" id=\"d731d8e0-9f61-4bda-9339-939e6e2e99d4\"></div>\n"
      ],
      "text/plain": [
       "\n",
       "\n",
       "\n",
       "\n",
       "\n",
       "\n",
       "  <div class=\"bk-root\" id=\"d731d8e0-9f61-4bda-9339-939e6e2e99d4\"></div>\n"
      ]
     },
     "execution_count": 0,
     "metadata": {},
     "output_type": "execute_result"
    }
   ],
   "source": [
    "N = 5\n",
    "perplexity = 30\n",
    "learning_rate = 100.0\n",
    "n_iter = 1000\n",
    "reduced = False\n",
    "plot_embeds(embeds_train, names_train, perplexity=perplexity, N=N, learning_rate = learning_rate, n_iter = n_iter, reduced=reduced)"
   ]
  },
  {
   "cell_type": "code",
   "execution_count": 47,
   "metadata": {},
   "outputs": [
    {
     "name": "stdout",
     "output_type": "stream",
     "text": [
      "Finding clusters\nFitting tsne\n"
     ]
    },
    {
     "data": {
      "text/html": [
       "\n",
       "\n",
       "\n",
       "\n",
       "\n",
       "\n",
       "  <div class=\"bk-root\" id=\"7faf22ec-3da0-408d-bc45-54e9c15133ed\"></div>\n"
      ],
      "text/plain": [
       "\n",
       "\n",
       "\n",
       "\n",
       "\n",
       "\n",
       "  <div class=\"bk-root\" id=\"7faf22ec-3da0-408d-bc45-54e9c15133ed\"></div>\n"
      ]
     },
     "execution_count": 0,
     "metadata": {},
     "output_type": "execute_result"
    },
    {
     "data": {
      "text/html": [
       "\n",
       "\n",
       "\n",
       "\n",
       "\n",
       "\n",
       "  <div class=\"bk-root\" id=\"7faf22ec-3da0-408d-bc45-54e9c15133ed\"></div>\n"
      ],
      "text/plain": [
       "\n",
       "\n",
       "\n",
       "\n",
       "\n",
       "\n",
       "  <div class=\"bk-root\" id=\"7faf22ec-3da0-408d-bc45-54e9c15133ed\"></div>\n"
      ]
     },
     "execution_count": 0,
     "metadata": {},
     "output_type": "execute_result"
    }
   ],
   "source": [
    "N = 5\n",
    "perplexity = 30\n",
    "learning_rate = 500.0\n",
    "n_iter = 5000\n",
    "reduced = False\n",
    "plot_embeds(embeds_train[:100], names_train[:100], perplexity=perplexity, N=N, learning_rate = learning_rate, n_iter = n_iter, reduced=reduced)"
   ]
  },
  {
   "cell_type": "code",
   "execution_count": 43,
   "metadata": {
    "collapsed": true
   },
   "outputs": [],
   "source": []
  }
 ],
 "metadata": {
  "kernelspec": {
   "display_name": "Python [default]",
   "language": "python",
   "name": "python3"
  },
  "language_info": {
   "codemirror_mode": {
    "name": "ipython",
    "version": 3
   },
   "file_extension": ".py",
   "mimetype": "text/x-python",
   "name": "python",
   "nbconvert_exporter": "python",
   "pygments_lexer": "ipython3",
   "version": "3.6.3"
  }
 },
 "nbformat": 4,
 "nbformat_minor": 2
}
